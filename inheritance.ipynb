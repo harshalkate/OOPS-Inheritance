{
 "cells": [
  {
   "cell_type": "code",
   "execution_count": 52,
   "id": "9f549f86-f3dd-4893-b9e4-09581244dc44",
   "metadata": {},
   "outputs": [
    {
     "data": {
      "text/plain": [
       "6050.0"
      ]
     },
     "execution_count": 52,
     "metadata": {},
     "output_type": "execute_result"
    }
   ],
   "source": [
    "class vehicle:\n",
    "    def __init__(self,name,mileage,capacity):\n",
    "        self.name = name\n",
    "        self.mileage = mileage\n",
    "        self.capacity = capacity\n",
    "    def fare(self):\n",
    "        return self.capacity * 100\n",
    "class bus(vehicle):\n",
    "    pass\n",
    "school_bus = vehicle(\"Neeta\",12,50)\n",
    "school_bus.fare()\n",
    "\n",
    "class bus(vehicle):\n",
    "    def fare(self):\n",
    "        amount = super().fare()\n",
    "        amount += amount * 10 / 100\n",
    "        return amount\n",
    "school_bus = bus(\"marcopolo\",30,55)\n",
    "school_bus.fare()"
   ]
  },
  {
   "cell_type": "code",
   "execution_count": 12,
   "id": "aa7ef7e7-0da8-4866-bf78-2670e3e27df8",
   "metadata": {},
   "outputs": [
    {
     "name": "stdout",
     "output_type": "stream",
     "text": [
      "<class '__main__.vehicle'>\n"
     ]
    }
   ],
   "source": [
    "print(type(school_bus))"
   ]
  },
  {
   "cell_type": "code",
   "execution_count": 14,
   "id": "506ae2c7-f39f-432f-ba5a-1f89520bc20c",
   "metadata": {},
   "outputs": [
    {
     "name": "stdout",
     "output_type": "stream",
     "text": [
      "True\n"
     ]
    }
   ],
   "source": [
    "print(isinstance(school_bus,vehicle))"
   ]
  },
  {
   "cell_type": "code",
   "execution_count": null,
   "id": "dfccefd5-7df9-4345-85f2-98278dd63c66",
   "metadata": {},
   "outputs": [],
   "source": []
  }
 ],
 "metadata": {
  "kernelspec": {
   "display_name": "Python 3 (ipykernel)",
   "language": "python",
   "name": "python3"
  },
  "language_info": {
   "codemirror_mode": {
    "name": "ipython",
    "version": 3
   },
   "file_extension": ".py",
   "mimetype": "text/x-python",
   "name": "python",
   "nbconvert_exporter": "python",
   "pygments_lexer": "ipython3",
   "version": "3.10.6"
  }
 },
 "nbformat": 4,
 "nbformat_minor": 5
}
